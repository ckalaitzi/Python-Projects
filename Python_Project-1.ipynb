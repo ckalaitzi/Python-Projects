{
 "cells": [
  {
   "cell_type": "markdown",
   "metadata": {
    "id": "cQ7YzabwjTmk"
   },
   "source": [
    "## Εργασία 2 ##\n",
    "\n",
    "Καλωσήρθατε στην δεύτερη σας εργασία. Η εργασία αυτή έχει σκοπό να σας βοηθήσει να εμπεδώσετε τα δενδρικά μοντέλα και την αξιολόγηση μοντέλων.\n",
    "\n",
    "Στην εργασία αυτή θα πρέπει να συμπληρώσετε κώδικα Python 3 στα σημεία που αναφέρουν # YOUR CODE HERE. Μην τροποποιείτε τον κώδικα που βρίσκεται εκτός αυτών των περιοχών.\n",
    "\n",
    "Πρωτού παραδόσετε την εργασία σας σιγουρευτείτε ότι ο κώδικας σε όλα τα κελιά τρέχει σωστά. Για το σκοπό αυτό επιλέξτε από το μενού **Χρόνος εκτέλεσης (runtime) -> Επανεκίνηση περιόδου λειτουργίας και εκτέλεση όλων**.\n",
    "\n",
    "Συμπληρώστε το όνομα (NAME) και το AEM σας παρακάτω:"
   ]
  },
  {
   "cell_type": "code",
   "execution_count": 47,
   "metadata": {
    "id": "3-rBqXXbjyR0"
   },
   "outputs": [],
   "source": [
    "NAME = \"Καλαϊτζίδης Χρήστος\"\n",
    "AEM = \"4165\""
   ]
  },
  {
   "cell_type": "markdown",
   "metadata": {
    "id": "egArYhcsTG-T"
   },
   "source": [
    "**1 (0,5 μονάδες):** Διαβάστε το διαθέσιμο από την sklearn σύνολο δεδομένων diabetes που αφορά την πρόβλεψη της πορείας που θα έχει ένας ασθενής με διαβήτη ένα χρόνο μετά (εργασία παλινδρόμησης) και αποθηκεύστε το σε μια μεταβλητή με το όνομα diabetes."
   ]
  },
  {
   "cell_type": "code",
   "execution_count": 48,
   "metadata": {
    "deletable": false,
    "id": "qgaPtNAmTCX7",
    "nbgrader": {
     "cell_type": "code",
     "checksum": "772db9050309a29929a4629f107de8c0",
     "grade": false,
     "grade_id": "cell-945e6199220ebe51",
     "locked": false,
     "schema_version": 3,
     "solution": true,
     "task": false
    }
   },
   "outputs": [],
   "source": [
    "# YOUR CODE HERE\n",
    "from sklearn.datasets import load_diabetes\n",
    "\n",
    "diabetes = load_diabetes()\n"
   ]
  },
  {
   "cell_type": "code",
   "execution_count": 49,
   "metadata": {
    "deletable": false,
    "editable": false,
    "id": "MDpYuRidVNFR",
    "nbgrader": {
     "cell_type": "code",
     "checksum": "74d1a5aab1043ad056fb392f19c25539",
     "grade": true,
     "grade_id": "cell-5ad298e30b073224",
     "locked": true,
     "points": 0.5,
     "schema_version": 3,
     "solution": false,
     "task": false
    }
   },
   "outputs": [],
   "source": [
    "\"\"\"Τεστ ορθής ανάγνωσης του συνόλου δεδομένων\"\"\"\n",
    "assert diabetes.feature_names == ['age', 'sex', 'bmi', 'bp', 's1', 's2', 's3', 's4', 's5', 's6']"
   ]
  },
  {
   "cell_type": "markdown",
   "metadata": {
    "id": "noKPebjiVqe3"
   },
   "source": [
    "**2 (0,5 μονάδες):** Χωρίστε το σύνολο που διαβάσατε σε υποσύνολο ελέγχου 20% και υποσύνολο εκπαίδευσης 80% με την μέθοδο train_test_split και σπόρο τυχαιότητας 42. Aποθηκεύστε το σύνολο εκπαίδευσης σε μεταβλητές X_train, y_train και το σύνολο ελέγχου σε μεταβλητές X_test, y_test. (0.5 μονάδες)"
   ]
  },
  {
   "cell_type": "code",
   "execution_count": 50,
   "metadata": {
    "deletable": false,
    "id": "lC480FLcVqr9",
    "nbgrader": {
     "cell_type": "code",
     "checksum": "810245a796a57737511d8e8eee982ca9",
     "grade": false,
     "grade_id": "cell-007e5ef64c2edaaf",
     "locked": false,
     "schema_version": 3,
     "solution": true,
     "task": false
    }
   },
   "outputs": [],
   "source": [
    "# YOUR CODE HERE\n",
    "from sklearn.datasets import load_diabetes\n",
    "from sklearn.model_selection import train_test_split\n",
    "\n",
    "# Φόρτωση του dataset\n",
    "diabetes = load_diabetes()\n",
    "\n",
    "# Χαρακτηριστικά και στόχος\n",
    "X = diabetes.data\n",
    "y = diabetes.target\n",
    "\n",
    "# Διαχωρισμός σε training και test sets\n",
    "X_train, X_test, y_train, y_test = train_test_split(X, y, test_size=0.2, random_state=42)\n"
   ]
  },
  {
   "cell_type": "code",
   "execution_count": 51,
   "metadata": {
    "deletable": false,
    "editable": false,
    "id": "ewEAsEXTWYl3",
    "nbgrader": {
     "cell_type": "code",
     "checksum": "811a4d8f3c4728dcf3e4034a6179826e",
     "grade": true,
     "grade_id": "cell-33de7b4d5141b07e",
     "locked": true,
     "points": 0.5,
     "schema_version": 3,
     "solution": false,
     "task": false
    }
   },
   "outputs": [],
   "source": [
    "\"\"\"Τεστ ορθού διαχωρισμού του συνόλου δεδομένων\"\"\"\n",
    "assert round(X_train[0][8], 5) == 0.02736\n",
    "assert round(X_test[0][8], 5) == 0.03243"
   ]
  },
  {
   "cell_type": "markdown",
   "metadata": {
    "id": "nQQeQyDPMVeP"
   },
   "source": [
    "**3 (1 μονάδα):** Χρησιμοποιώντας τα δεδομένα εκπαίδευσης, εκπαιδεύστε δύο δένδρα παλινδρόμησης με κριτήρια διαχωρισμού τα squared_eror και poisson ([δείτε ενότητα 1.10.7.2](https://scikit-learn.org/stable/modules/tree.html#tree)) αντίστοιχα, θέτοντας τον σπόρο τυχαιότητας στην τιμή 42 και το μέγιστο βάθος στην τιμή 3. Υπολογίστε τη μετρική r2 με βάση τις προβλέψεις τους στα δεδομένα ελέγχου, τις οποίες αποθηκεύστε στις μεταβλητές y_pred1 (squared_error) και y_pred2 (poisson) αντίστοιχα.\n",
    "Αποθηκεύστε τις μετρικές στις μεταβλητές r2_squared_error και r2_poisson αντίστοιχα. (1 μονάδα)"
   ]
  },
  {
   "cell_type": "code",
   "execution_count": 52,
   "metadata": {
    "deletable": false,
    "id": "npXtZGR1Nh7i",
    "nbgrader": {
     "cell_type": "code",
     "checksum": "0d2d32660f681e3f2cc5057c7d3694e1",
     "grade": false,
     "grade_id": "cell-b1390f68c6c3dc60",
     "locked": false,
     "schema_version": 3,
     "solution": true,
     "task": false
    }
   },
   "outputs": [
    {
     "name": "stdout",
     "output_type": "stream",
     "text": [
      "R² (squared_error): 0.3294451571119206\n",
      "R² (poisson): 0.39132129073788213\n"
     ]
    }
   ],
   "source": [
    "# YOUR CODE HERE\n",
    "from sklearn.datasets import load_diabetes\n",
    "from sklearn.model_selection import train_test_split\n",
    "from sklearn.tree import DecisionTreeRegressor\n",
    "from sklearn.metrics import r2_score\n",
    "\n",
    "# Φόρτωση του dataset\n",
    "diabetes = load_diabetes()\n",
    "X = diabetes.data\n",
    "y = diabetes.target\n",
    "\n",
    "# Διαχωρισμός σε training και test sets\n",
    "X_train, X_test, y_train, y_test = train_test_split(X, y, test_size=0.2, random_state=42)\n",
    "\n",
    "# Εκπαίδευση πρώτου δέντρου με κριτήριο squared_error\n",
    "tree1 = DecisionTreeRegressor(criterion=\"squared_error\", max_depth=3, random_state=42)\n",
    "tree1.fit(X_train, y_train)\n",
    "y_pred1 = tree1.predict(X_test)\n",
    "r2_squared_error = r2_score(y_test, y_pred1)\n",
    "\n",
    "# Εκπαίδευση δεύτερου δέντρου με κριτήριο poisson\n",
    "tree2 = DecisionTreeRegressor(criterion=\"poisson\", max_depth=3, random_state=42)\n",
    "tree2.fit(X_train, y_train)\n",
    "y_pred2 = tree2.predict(X_test)\n",
    "r2_poisson = r2_score(y_test, y_pred2)\n",
    "\n",
    "# Εκτύπωση των R²\n",
    "print(\"R² (squared_error):\", r2_squared_error)\n",
    "print(\"R² (poisson):\", r2_poisson)\n"
   ]
  },
  {
   "cell_type": "code",
   "execution_count": 53,
   "metadata": {
    "deletable": false,
    "editable": false,
    "id": "EyOktDzDOsaa",
    "nbgrader": {
     "cell_type": "code",
     "checksum": "02bc7fb3b31a2eeeb3cc5f6c68e3ad7c",
     "grade": true,
     "grade_id": "cell-3f2d723addec3c0f",
     "locked": true,
     "points": 1,
     "schema_version": 3,
     "solution": false,
     "task": false
    }
   },
   "outputs": [],
   "source": [
    "\"\"\"Τεστ ορθού υπολογισμού των μετρικών\"\"\"\n",
    "assert round(r2_squared_error, 3) == 0.329\n",
    "assert round(r2_poisson, 3) == 0.391\n",
    "assert len(y_pred1) == len(y_pred2)"
   ]
  },
  {
   "cell_type": "markdown",
   "metadata": {
    "id": "QzH3Mos4kB7-"
   },
   "source": [
    "**4 (0,5 μονάδες):** Διαχωρίστε τα δεδομένα diabetes σε υποσύνολα εκπαίδευσης 60% (X_train, y_train), επικύρωσης 15% (X_val, y_val) και ελέγχου 25% (X_test, y_test) με σπόρο τυχαιότητας 42. Ξεκινήστε δημιουργώντας πρώτα το τελικό σύνολο ελέγχου, και έπειτα χωρίζοντας το υπόλοιπο σε σύνολο εκπαίδευσης και επικύρωσης."
   ]
  },
  {
   "cell_type": "code",
   "execution_count": 54,
   "metadata": {
    "deletable": false,
    "id": "H2QZ8fEakJaO",
    "nbgrader": {
     "cell_type": "code",
     "checksum": "871f7d6a659f387cf2aec3c41353b85a",
     "grade": false,
     "grade_id": "cell-db6d2d4c83a94e4b",
     "locked": false,
     "schema_version": 3,
     "solution": true,
     "task": false
    }
   },
   "outputs": [],
   "source": [
    "# YOUR CODE HERE\n",
    "from sklearn.datasets import load_diabetes\n",
    "from sklearn.model_selection import train_test_split\n",
    "\n",
    "# Φόρτωση δεδομένων\n",
    "diabetes = load_diabetes()\n",
    "X = diabetes.data\n",
    "y = diabetes.target\n",
    "\n",
    "\n",
    "X_temp, X_test, y_temp, y_test = train_test_split(X, y, test_size=0.25, random_state=42)\n",
    "X_train, X_val, y_train, y_val = train_test_split(X_temp, y_temp, test_size=0.2, random_state=42)\n"
   ]
  },
  {
   "cell_type": "code",
   "execution_count": 55,
   "metadata": {
    "deletable": false,
    "editable": false,
    "id": "e9j-C2uikLuW",
    "nbgrader": {
     "cell_type": "code",
     "checksum": "9ae5e118f4581e7ac7d86f9fdc97cf02",
     "grade": true,
     "grade_id": "cell-262a292a0b3f72bb",
     "locked": true,
     "points": 0.5,
     "schema_version": 3,
     "solution": false,
     "task": false
    }
   },
   "outputs": [],
   "source": [
    "\"\"\"Τεστ ορθού διαχωρισμού του συνόλου δεδομένων\"\"\"\n",
    "assert round(X_train[0][8], 5) == -0.08024\n",
    "assert round(X_val[0][8], 5) == 0.09924\n",
    "assert round(X_test[0][8], 5) == 0.03243"
   ]
  },
  {
   "cell_type": "markdown",
   "metadata": {
    "id": "dQp6q3GZtzPo"
   },
   "source": [
    "**5 (2 μονάδες):** Υλοποιήστε συνάρτηση, η οποία δοθέντος ενός δενδρικού μοντέλου παλινδρόμησης, διερευνά όλες τις ακέραιες τιμές της μεταβλητής min_samples_leaf από ένα κάτω όριο μέχρι ένα άνω όριο και επιστρέφει την βέλτιστη με βάση το mean squared error στο παραπάνω σύνολο επικύρωσης έπειτα από εκπαίδευση στο παραπάνω σύνολο εκπαίδευσης. Επιπλέον επιστρέφει και το mean squared error (στρογγυλοποιημένο σε ακέραιο) που πετυχαίνει στο σύνολο ελέγχου το μοντέλο με την βέλτιστη επίδοση στο σύνολο επικύρωσης."
   ]
  },
  {
   "cell_type": "code",
   "execution_count": 56,
   "metadata": {
    "deletable": false,
    "id": "2yO0A20eR9c9",
    "nbgrader": {
     "cell_type": "code",
     "checksum": "bfb48d01589a125c629d60c2dc0578cb",
     "grade": false,
     "grade_id": "cell-db6235d877cf3abe",
     "locked": false,
     "schema_version": 3,
     "solution": true,
     "task": false
    }
   },
   "outputs": [],
   "source": [
    "from sklearn.metrics import mean_squared_error\n",
    "\n",
    "def best_min_samples_leaf(model, min, max):\n",
    "    best_leaf = None\n",
    "    best_mse_val = float('inf')\n",
    "    best_model = None\n",
    "\n",
    "    for leaf in range(min, max + 1):\n",
    "        # Δημιουργία νέου μοντέλου ίδιας κλάσης με το δοθέν μοντέλο\n",
    "        current_model = type(model)(**model.get_params())\n",
    "        current_model.set_params(min_samples_leaf=leaf)\n",
    "\n",
    "        # Εκπαίδευση\n",
    "        current_model.fit(X_train, y_train)\n",
    "\n",
    "        # MSE στο validation set\n",
    "        y_val_pred = current_model.predict(X_val)\n",
    "        mse_val = mean_squared_error(y_val, y_val_pred)\n",
    "\n",
    "        if mse_val < best_mse_val:\n",
    "            best_mse_val = mse_val\n",
    "            best_leaf = leaf\n",
    "            best_model = current_model\n",
    "\n",
    "    # Υπολογισμός MSE στο test set\n",
    "    y_test_pred = best_model.predict(X_test)\n",
    "    mse_test = mean_squared_error(y_test, y_test_pred)\n",
    "\n",
    "    return best_leaf, round(mse_test)\n"
   ]
  },
  {
   "cell_type": "code",
   "execution_count": 57,
   "metadata": {
    "deletable": false,
    "editable": false,
    "id": "nlUoXsIYt5V1",
    "nbgrader": {
     "cell_type": "code",
     "checksum": "7761c5bbb842892d6967f5d145c8afe3",
     "grade": true,
     "grade_id": "cell-4c4b39c4be673d88",
     "locked": true,
     "points": 2,
     "schema_version": 3,
     "solution": false,
     "task": false
    }
   },
   "outputs": [],
   "source": [
    "\"\"\"Τεστ ορθής υλοποίησης συνάρτησης\"\"\"\n",
    "model = DecisionTreeRegressor(max_depth=3, random_state=42)\n",
    "assert best_min_samples_leaf(model, 1, 8) == (7, 3358)\n",
    "assert best_min_samples_leaf(model, 5, 15) == (11, 3271)"
   ]
  },
  {
   "cell_type": "markdown",
   "metadata": {
    "id": "hoxTtY4mLkny"
   },
   "source": [
    "**6 (1,5 μονάδα):** Υλοποιήστε συνάρτηση η οποία δοθέντος ενός μοντέλου, ενός συνόλου δεδομένων και μίας μετρικής, αξιολογεί το μοντέλο με τη μέθοδο της σταυρωτής επικύρωσης \"άφησε ένα εκτός\"."
   ]
  },
  {
   "cell_type": "code",
   "execution_count": 58,
   "metadata": {
    "deletable": false,
    "id": "ZfcXH4tqLk-U",
    "nbgrader": {
     "cell_type": "code",
     "checksum": "f4472cf482a698bb7f1c5de4f89d8998",
     "grade": false,
     "grade_id": "cell-83aa7655f3f1ecdd",
     "locked": false,
     "schema_version": 3,
     "solution": true,
     "task": false
    }
   },
   "outputs": [],
   "source": [
    "from sklearn.model_selection import LeaveOneOut\n",
    "import numpy as np\n",
    "\n",
    "def leave_one_out(model, X, y, metric):\n",
    " # YOUR CODE HERE\n",
    "    loo = LeaveOneOut()\n",
    "    scores = []\n",
    "\n",
    "    for train_index, test_index in loo.split(X):\n",
    "        X_train, X_test = X[train_index], X[test_index]\n",
    "        y_train, y_test = y[train_index], y[test_index]\n",
    "\n",
    "        current_model = type(model)(**model.get_params())\n",
    "        current_model.fit(X_train, y_train)\n",
    "        y_pred = current_model.predict(X_test)\n",
    "\n",
    "        score = metric(y_test, y_pred)\n",
    "        scores.append(score)\n",
    "\n",
    "    return np.mean(scores)\n"
   ]
  },
  {
   "cell_type": "code",
   "execution_count": 59,
   "metadata": {
    "deletable": false,
    "editable": false,
    "id": "PLC1DTk31snO",
    "nbgrader": {
     "cell_type": "code",
     "checksum": "3c4d8e30f794144ec2a061ae275f981e",
     "grade": true,
     "grade_id": "cell-06bac2fcee9a42de",
     "locked": true,
     "points": 1.5,
     "schema_version": 3,
     "solution": false,
     "task": false
    }
   },
   "outputs": [],
   "source": [
    "\"\"\"Τεστ ορθής υλοποίησης συνάρτησης\"\"\"\n",
    "model = DecisionTreeRegressor(max_leaf_nodes=6, min_samples_leaf=2, random_state=42)\n",
    "assert round(leave_one_out(model, diabetes.data, diabetes.target, mean_squared_error), 0) == 3354"
   ]
  },
  {
   "cell_type": "markdown",
   "metadata": {
    "id": "bPi_HbGMkgxE"
   },
   "source": [
    "**7 (2 μονάδες):** Χρησιμοποιώντας τις κλάσεις GridSearchCV, KFold και τη συνάρτηση cross_val_score, υλοποιήστε συνάρτηση που δέχεται δενδρικό μοντέλο, σύνολο δεδομένων, μετρική αξιολόγησης και ελάχιστη (min) και μέγιστη (max) τιμή βάθους για το δένδρο και επιστρέφει εκτίμηση της απόδοσης του μοντέλου αυτού, έπειτα από επιλογή της καλύτερης δυνατής τιμής για την παράμετρο του βάθους από min έως και max, με βάση τη δοθείσα μετρική και τη μέθοδο της φωλιασμένης k-πλης σταυρωτής επικύρωσης. Χρησιμοποιήστε 10 fold εξωτερικά, 9 fold εσωτερικά, τυχαίο ανακάτεμα δεδομένων, και σπόρο τυχαιότητας 25."
   ]
  },
  {
   "cell_type": "code",
   "execution_count": null,
   "metadata": {
    "deletable": false,
    "id": "_BpcaJCkltvC",
    "nbgrader": {
     "cell_type": "code",
     "checksum": "fe1714982aafd035f7371881113a9c1b",
     "grade": false,
     "grade_id": "cell-0859aa898e82771f",
     "locked": false,
     "schema_version": 3,
     "solution": true,
     "task": false
    }
   },
   "outputs": [],
   "source": [
    "from sklearn.model_selection import GridSearchCV, KFold, cross_val_score\n",
    "import numpy as np\n",
    "\n",
    "def estimation(model, X, y, metric, min, max):\n",
    " # YOUR CODE HERE\n",
    " \n",
    "    param_grid = {'max_depth': list(range(min, max + 1))}\n",
    "\n",
    "    \n",
    "    inner_cv = KFold(n_splits=9, shuffle=True, random_state=25)\n",
    "\n",
    "    \n",
    "    outer_cv = KFold(n_splits=10, shuffle=True, random_state=25)\n",
    "\n",
    "    \n",
    "    grid_search = GridSearchCV(estimator=model,\n",
    "                               param_grid=param_grid,\n",
    "                               scoring=metric,\n",
    "                               cv=inner_cv,\n",
    "                               n_jobs=-1) \n",
    "\n",
    "    \n",
    "    scores = cross_val_score(grid_search, X, y, scoring=metric, cv=outer_cv, n_jobs=-1)\n",
    "\n",
    "    return np.mean(scores)\n"
   ]
  },
  {
   "cell_type": "code",
   "execution_count": 61,
   "metadata": {
    "deletable": false,
    "editable": false,
    "id": "EuQAhYBsCU17",
    "nbgrader": {
     "cell_type": "code",
     "checksum": "3351374ec0ad873ec6d130cf6236facc",
     "grade": true,
     "grade_id": "cell-29fa8f9d02b1331e",
     "locked": true,
     "points": 2,
     "schema_version": 3,
     "solution": false,
     "task": false
    }
   },
   "outputs": [
    {
     "ename": "AssertionError",
     "evalue": "",
     "output_type": "error",
     "traceback": [
      "\u001b[31m---------------------------------------------------------------------------\u001b[39m",
      "\u001b[31mAssertionError\u001b[39m                            Traceback (most recent call last)",
      "\u001b[36mCell\u001b[39m\u001b[36m \u001b[39m\u001b[32mIn[61]\u001b[39m\u001b[32m, line 3\u001b[39m\n\u001b[32m      1\u001b[39m \u001b[33;03m\"\"\"Τεστ ορθής υλοποίησης συνάρτησης\"\"\"\u001b[39;00m\n\u001b[32m      2\u001b[39m model = DecisionTreeRegressor(random_state=\u001b[32m42\u001b[39m)\n\u001b[32m----> \u001b[39m\u001b[32m3\u001b[39m \u001b[38;5;28;01massert\u001b[39;00m \u001b[38;5;28mround\u001b[39m(estimation(model, diabetes.data, diabetes.target, \u001b[33m'\u001b[39m\u001b[33mneg_mean_squared_error\u001b[39m\u001b[33m'\u001b[39m, \u001b[32m1\u001b[39m, \u001b[32m10\u001b[39m), \u001b[32m2\u001b[39m) == \u001b[32m3993.82\u001b[39m\n",
      "\u001b[31mAssertionError\u001b[39m: "
     ]
    }
   ],
   "source": [
    "\"\"\"Τεστ ορθής υλοποίησης συνάρτησης\"\"\"\n",
    "model = DecisionTreeRegressor(random_state=42)\n",
    "assert round(estimation(model, diabetes.data, diabetes.target, 'neg_mean_squared_error', 1, 10), 2) == 3993.82"
   ]
  },
  {
   "cell_type": "markdown",
   "metadata": {
    "id": "M4KUNzZnbuPJ"
   },
   "source": [
    "**8 (1 μονάδα):** Υλοποιήστε συνάρτηση που δέχεται εκπαιδευμένο δενδρικό μοντέλο και πίνακα συμβολοσειρών με τα ονόματα των μεταβλητών εισόδου και επιστρέφει τη σημαντικότερη μεταβλητή εισόδου."
   ]
  },
  {
   "cell_type": "code",
   "execution_count": 62,
   "metadata": {
    "deletable": false,
    "id": "CXknGRgobyrE",
    "nbgrader": {
     "cell_type": "code",
     "checksum": "6909aa8e2d857dd8c2e748bd19e3bfdf",
     "grade": false,
     "grade_id": "cell-df6dc2f47f9d098b",
     "locked": false,
     "schema_version": 3,
     "solution": true,
     "task": false
    }
   },
   "outputs": [],
   "source": [
    "def best_feature(model, feature_names):\n",
    "  # YOUR CODE HERE\n",
    "   import numpy as np\n",
    "   importances = model.feature_importances_\n",
    "   best_index = np.argmax(importances)\n",
    "   return feature_names[best_index]\n"
   ]
  },
  {
   "cell_type": "code",
   "execution_count": 63,
   "metadata": {
    "deletable": false,
    "editable": false,
    "id": "VwWwAh95b0Ql",
    "nbgrader": {
     "cell_type": "code",
     "checksum": "4d93a153fad27c2959e7ea54940f515e",
     "grade": true,
     "grade_id": "cell-50285e47d84e6828",
     "locked": true,
     "points": 1,
     "schema_version": 3,
     "solution": false,
     "task": false
    }
   },
   "outputs": [],
   "source": [
    "\"\"\"Τεστ ορθής υλοποίησης συνάρτησης\"\"\"\n",
    "model = DecisionTreeRegressor(max_depth=3, random_state=42)\n",
    "model.fit(diabetes.data, diabetes.target)\n",
    "assert best_feature(model, diabetes.feature_names) == 's5'"
   ]
  },
  {
   "cell_type": "markdown",
   "metadata": {
    "id": "6MbkaYkhH2PT"
   },
   "source": [
    "**9 (1 μονάδα):** Υλοποιήστε συνάρτηση που δέχεται εκπαιδευμένο δενδρικό μοντέλο και πίνακα συμβολοσειρών με τα ονόματα των μεταβλητών και επιστρέφει την μεταβλητή η οποία ελέγχεται στο δένδρο στο πρώτο παιδί δεξιά. Χρησιμοποιήστε την ιδιότητα [tree_](https://scikit-learn.org/stable/auto_examples/tree/plot_unveil_tree_structure.html#sphx-glr-auto-examples-tree-plot-unveil-tree-structure-py)."
   ]
  },
  {
   "cell_type": "code",
   "execution_count": null,
   "metadata": {
    "deletable": false,
    "id": "dAPFm6iLIfJy",
    "nbgrader": {
     "cell_type": "code",
     "checksum": "10f8e97ce9a7b9f741cc03e0668c0bc2",
     "grade": false,
     "grade_id": "cell-ead77d5ea43abcf1",
     "locked": false,
     "schema_version": 3,
     "solution": true,
     "task": false
    }
   },
   "outputs": [],
   "source": [
    "def right_child(model, feature_names):\n",
    "  # YOUR CODE HERE\n",
    "    tree = model.tree_\n",
    "    root_node = 0\n",
    "    right_child_node = tree.children_right[root_node]\n",
    "    feature_index = tree.feature[right_child_node]\n",
    "    \n",
    "    # Αν το feature_index είναι -2, σημαίνει ότι ο κόμβος είναι φύλλο\n",
    "    if feature_index == -2:\n",
    "        return None\n",
    "\n",
    "    return feature_names[feature_index]"
   ]
  },
  {
   "cell_type": "code",
   "execution_count": null,
   "metadata": {
    "deletable": false,
    "editable": false,
    "id": "dJhR_4FGIfRg",
    "nbgrader": {
     "cell_type": "code",
     "checksum": "5085c7a9601feb3f827129f68299b890",
     "grade": true,
     "grade_id": "cell-c59ba7d856846a2c",
     "locked": true,
     "points": 1,
     "schema_version": 3,
     "solution": false,
     "task": false
    }
   },
   "outputs": [],
   "source": [
    "\"\"\"Τεστ ορθής υλοποίησης συνάρτησης\"\"\"\n",
    "model = DecisionTreeRegressor(max_depth=2, random_state=42)\n",
    "model.fit(diabetes.data, diabetes.target)\n",
    "assert right_child(model, diabetes.feature_names) == 'bmi'"
   ]
  }
 ],
 "metadata": {
  "colab": {
   "provenance": []
  },
  "kernelspec": {
   "display_name": "Python 3",
   "language": "python",
   "name": "python3"
  },
  "language_info": {
   "codemirror_mode": {
    "name": "ipython",
    "version": 3
   },
   "file_extension": ".py",
   "mimetype": "text/x-python",
   "name": "python",
   "nbconvert_exporter": "python",
   "pygments_lexer": "ipython3",
   "version": "3.11.9"
  }
 },
 "nbformat": 4,
 "nbformat_minor": 4
}
