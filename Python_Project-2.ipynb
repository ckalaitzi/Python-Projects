{
 "cells": [
  {
   "cell_type": "markdown",
   "metadata": {
    "id": "cQ7YzabwjTmk"
   },
   "source": [
    "## Εργασία 3 ##\n",
    "\n",
    "Καλωσήρθατε στην τρίτη σας εργασία. Η εργασία αυτή έχει σκοπό να σας βοηθήσει να εμπεδώσετε τα σύνολα μοντέλων.\n",
    "\n",
    "Στην εργασία αυτή θα πρέπει να συμπληρώσετε κώδικα Python 3 στα σημεία που αναφέρουν # YOUR CODE HERE. Μην τροποποιείτε τον κώδικα που βρίσκεται εκτός αυτών των περιοχών.\n",
    "\n",
    "Πρωτού παραδόσετε την εργασία σας σιγουρευτείτε ότι ο κώδικας σε όλα τα κελιά τρέχει σωστά. Για το σκοπό αυτό επιλέξτε από το μενού **Χρόνος εκτέλεσης (runtime) -> Επανεκίνηση περιόδου λειτουργίας και εκτέλεση όλων**.\n",
    "\n",
    "Συμπληρώστε το όνομα (**NAME**) και το **AEM** σας παρακάτω **εντός των διπλών εισαγωγικών**:"
   ]
  },
  {
   "cell_type": "code",
   "execution_count": 9,
   "metadata": {
    "executionInfo": {
     "elapsed": 3,
     "status": "ok",
     "timestamp": 1746886817118,
     "user": {
      "displayName": "Grigorios Tsoumakas",
      "userId": "13048321804834071528"
     },
     "user_tz": -180
    },
    "id": "3-rBqXXbjyR0"
   },
   "outputs": [],
   "source": [
    "NAME = \"Χρήστος Καλαϊτζίδης\"\n",
    "AEM = \"4165\""
   ]
  },
  {
   "cell_type": "markdown",
   "metadata": {
    "id": "egArYhcsTG-T"
   },
   "source": [
    "**1 (2 μονάδες)** Σε αυτήν την εργασία θα δουλέψουμε με ένα σύνολο δεδομένων δυαδικής ταξινόμησης, από το δημόσιο αποθετήριο δεδομένων και πειραμάτων μηχανικής μάθησης [openml.org](https://www.openml.org/). Μπορείτε να δείτε πως φορτώνουμε σύνολα δεδομένων από το openml.org μέσα από την sklearn μελετώντας την αντίστοιχη [τεκμηρίωση](https://scikit-learn.org/stable/datasets/loading_other_datasets.html#downloading-datasets-from-the-openml-org-repository). Συγκεκριμένα θέλουμε να δουλέψουμε με την έκδοση 1 του Pima Indians Diabetes Database, το οποίο αφορά τη διάγνωση διαβήτη. Χωρίστε το σύνολο δεδομένων σε δεδομένα εκπαίδευσης (X_train, y_train) και ελέγχου (X_test, y_test) σε ποσοστό 70% και 30% αντίστοιχα με τη συνάρτηση train_test_split (τιμή για random_state βάλτε 0)."
   ]
  },
  {
   "cell_type": "code",
   "execution_count": 10,
   "metadata": {
    "deletable": false,
    "executionInfo": {
     "elapsed": 12,
     "status": "ok",
     "timestamp": 1746888301102,
     "user": {
      "displayName": "Grigorios Tsoumakas",
      "userId": "13048321804834071528"
     },
     "user_tz": -180
    },
    "id": "qgaPtNAmTCX7",
    "nbgrader": {
     "cell_type": "code",
     "checksum": "a3d34c1c83f83737a14a84cab85c7417",
     "grade": false,
     "grade_id": "cell-88ff30ee4cf342eb",
     "locked": false,
     "schema_version": 3,
     "solution": true,
     "task": false
    }
   },
   "outputs": [],
   "source": [
    "# YOUR CODE HERE\n",
    "from sklearn.datasets import fetch_openml\n",
    "from sklearn.model_selection import train_test_split\n",
    "\n",
    "# Φόρτωση του dataset Pima Indians Diabetes από το OpenML\n",
    "diabetes = fetch_openml(data_id=37, as_frame=True)\n",
    "\n",
    "# Διαχωρισμός χαρακτηριστικών και ετικέτας (στόχου)\n",
    "X = diabetes.data\n",
    "y = diabetes.target\n",
    "\n",
    "# Χωρισμός σε σύνολο εκπαίδευσης και ελέγχου (70% - 30%)\n",
    "X_train, X_test, y_train, y_test = train_test_split(X, y, test_size=0.3, random_state=0)\n"
   ]
  },
  {
   "cell_type": "code",
   "execution_count": 11,
   "metadata": {
    "deletable": false,
    "editable": false,
    "executionInfo": {
     "elapsed": 3,
     "status": "ok",
     "timestamp": 1746888305494,
     "user": {
      "displayName": "Grigorios Tsoumakas",
      "userId": "13048321804834071528"
     },
     "user_tz": -180
    },
    "id": "19LlgZx5cOLP",
    "nbgrader": {
     "cell_type": "code",
     "checksum": "7b612cdb194e3a6d919b0f0119f34d18",
     "grade": true,
     "grade_id": "cell-25b0cfdbf7e65bfa",
     "locked": true,
     "points": 2,
     "schema_version": 3,
     "solution": false,
     "task": false
    }
   },
   "outputs": [],
   "source": [
    "\"\"\"Τεστ ορθής ανάγνωσης και διαχωρισμού του συνόλου δεδομένων\"\"\"\n",
    "assert X_train['mass'][0] == 33.6\n",
    "assert X_test['pedi'][34] == 0.512"
   ]
  },
  {
   "cell_type": "markdown",
   "metadata": {
    "id": "RB8RexuPciQr"
   },
   "source": [
    "**2 (4 μονάδες)** Υλοποιήστε μια ντετερμινιστική εκδοχή της μεθόδου των τυχαίων υποχώρων, η οποία χτίζει τόσα μοντέλα όσες και οι μεταβλητές εισόδου, κάθε ένα από τα οποία αγνοεί και μία διαφορετική μεταβλητή εισόδου. Π.χ. το πρώτο μοντέλο αγνοεί την πρώτη, το δεύτερο αγνοεί τη δεύτερη κτλ. Χρησιμοποιήστε τη συνάρτηση clone από το sklearn.base για να δημιουργήστε αντίγραφο του βασικού μοντέλου σε κάθε επανάληψη. "
   ]
  },
  {
   "cell_type": "code",
   "execution_count": 12,
   "metadata": {
    "deletable": false,
    "executionInfo": {
     "elapsed": 2,
     "status": "ok",
     "timestamp": 1746888307073,
     "user": {
      "displayName": "Grigorios Tsoumakas",
      "userId": "13048321804834071528"
     },
     "user_tz": -180
    },
    "id": "KuC_s04KcigR",
    "nbgrader": {
     "cell_type": "code",
     "checksum": "5cade2ae8686482faea2a0be889b1bac",
     "grade": false,
     "grade_id": "cell-635611de8dc6fdf4",
     "locked": false,
     "schema_version": 3,
     "solution": true,
     "task": false
    }
   },
   "outputs": [],
   "source": [
    "import numpy as np\n",
    "from sklearn.tree import DecisionTreeClassifier\n",
    "from sklearn.base import clone\n",
    "\n",
    "class RandomSubspaceDet:\n",
    "    def __init__(self, estimator=DecisionTreeClassifier()):\n",
    "         # YOUR CODE HERE\n",
    "        self.estimator = estimator\n",
    "        self.models = []\n",
    "        self.feature_indices = []\n",
    "\n",
    "    def fit(self, X_train, y_train):\n",
    "         # YOUR CODE HERE\n",
    "        self.models = []\n",
    "        self.feature_indices = []\n",
    "        n_features = X_train.shape[1]\n",
    "\n",
    "        for i in range(n_features):\n",
    "            # Επιλέγουμε όλα τα χαρακτηριστικά εκτός από το i\n",
    "            features = [j for j in range(n_features) if j != i]\n",
    "            self.feature_indices.append(features)\n",
    "\n",
    "            # Δημιουργούμε νέο εκτιμητή και τον εκπαιδεύουμε\n",
    "            model = clone(self.estimator)\n",
    "            model.fit(X_train.iloc[:, features], y_train)\n",
    "            self.models.append(model)\n",
    "\n",
    "    def predict(self, X):\n",
    "         # YOUR CODE HERE\n",
    "        predictions = []\n",
    "\n",
    "        # Κάθε μοντέλο προβλέπει χρησιμοποιώντας το υποσύνολο των χαρακτηριστικών του\n",
    "        for model, features in zip(self.models, self.feature_indices):\n",
    "            preds = model.predict(X.iloc[:, features])\n",
    "            predictions.append(preds)\n",
    "\n",
    "        # Πλειοψηφία ψήφων κατά στήλη\n",
    "        predictions = np.array(predictions)  # shape: (n_models, n_samples)\n",
    "        majority_votes = []\n",
    "\n",
    "        for i in range(predictions.shape[1]):\n",
    "            # Παίρνουμε τη συχνότερη πρόβλεψη για το δείγμα i\n",
    "            vals, counts = np.unique(predictions[:, i], return_counts=True)\n",
    "            majority = vals[np.argmax(counts)]\n",
    "            majority_votes.append(majority)\n",
    "\n",
    "        return np.array(majority_votes)\n",
    "\n"
   ]
  },
  {
   "cell_type": "code",
   "execution_count": 13,
   "metadata": {
    "deletable": false,
    "editable": false,
    "executionInfo": {
     "elapsed": 755,
     "status": "ok",
     "timestamp": 1746888310415,
     "user": {
      "displayName": "Grigorios Tsoumakas",
      "userId": "13048321804834071528"
     },
     "user_tz": -180
    },
    "id": "iDNUeGUEciwi",
    "nbgrader": {
     "cell_type": "code",
     "checksum": "d1e97b02cf57da7e715ddf6ba1b1ebe4",
     "grade": true,
     "grade_id": "cell-2cd50c46c4c0fd03",
     "locked": true,
     "points": 4,
     "schema_version": 3,
     "solution": false,
     "task": false
    }
   },
   "outputs": [],
   "source": [
    "\"\"\"Τεστ ορθής υλοποίησης RandomSubspaceDet\"\"\"\n",
    "from sklearn.metrics import accuracy_score\n",
    "from sklearn.tree import DecisionTreeClassifier\n",
    "\n",
    "rs = RandomSubspaceDet(estimator=DecisionTreeClassifier(random_state=1))\n",
    "rs.fit(X_train, y_train)\n",
    "assert round(accuracy_score(rs.predict(X_test), y_test), 4) == 0.7446"
   ]
  },
  {
   "cell_type": "markdown",
   "metadata": {
    "id": "n19eEYRNRnG-"
   },
   "source": [
    "**3 (4 μονάδες)** Υλοποιήστε τη μέθοδο AdaBoost όπως παρουσιάστηκε στο μάθημα. Χρησιμοποιήστε τη συνάρτηση clone από το sklearn.base για να δημιουργήστε αντίγραφο του βασικού μοντέλου σε κάθε επανάληψη. Χρησιμοποιήστε την παράμετρο sample_weight της fit του βασικού μοντέλου για να ορίσετε τα βάρη των παραδειγμάτων εκπαίδευσης. "
   ]
  },
  {
   "cell_type": "code",
   "execution_count": 14,
   "metadata": {
    "deletable": false,
    "executionInfo": {
     "elapsed": 1,
     "status": "ok",
     "timestamp": 1746888312393,
     "user": {
      "displayName": "Grigorios Tsoumakas",
      "userId": "13048321804834071528"
     },
     "user_tz": -180
    },
    "id": "7NOoKPI8TBX6",
    "nbgrader": {
     "cell_type": "code",
     "checksum": "b1ab09761b841c5f05458957fc1ebaf0",
     "grade": false,
     "grade_id": "cell-8e0c8663d7b7430f",
     "locked": false,
     "schema_version": 3,
     "solution": true,
     "task": false
    }
   },
   "outputs": [],
   "source": [
    "import numpy as np\n",
    "from sklearn.base import clone\n",
    "\n",
    "class AdaBoost:\n",
    "    def __init__(self, n_estimators=20, estimator=DecisionTreeClassifier(max_depth=1)):\n",
    "         # YOUR CODE HERE\n",
    "        self.n_estimators = n_estimators\n",
    "        self.base_estimator = estimator\n",
    "        self.models = []\n",
    "        self.alphas = []\n",
    "\n",
    "    def fit(self, X_train, y_train):\n",
    "         # YOUR CODE HERE\n",
    "        # Μετατροπή των ετικετών σε {-1, +1}\n",
    "        y_train = np.where(y_train == 'tested_positive', 1, -1)\n",
    "        n_samples = len(y_train)\n",
    "        w = np.ones(n_samples) / n_samples  # αρχικά βάρη\n",
    "\n",
    "        self.models = []\n",
    "        self.alphas = []\n",
    "\n",
    "        for _ in range(self.n_estimators):\n",
    "            model = clone(self.base_estimator)\n",
    "            model.fit(X_train, y_train, sample_weight=w)\n",
    "\n",
    "            y_pred = model.predict(X_train)\n",
    "            err = np.sum(w * (y_pred != y_train)) / np.sum(w)\n",
    "\n",
    "            # Αποφυγή διαίρεσης με το μηδέν\n",
    "            if err == 0:\n",
    "                alpha = 1e10\n",
    "            elif err >= 0.5:\n",
    "                continue  # αγνοούμε \"κακούς\" ταξινομητές\n",
    "            else:\n",
    "                alpha = 0.5 * np.log((1 - err) / err)\n",
    "\n",
    "            # Ενημέρωση βαρών\n",
    "            w *= np.exp(-alpha * y_train * y_pred)\n",
    "            w /= np.sum(w)\n",
    "\n",
    "            self.models.append(model)\n",
    "            self.alphas.append(alpha)\n",
    "\n",
    "    def predict(self, X):\n",
    "         # YOUR CODE HERE\n",
    "        model_preds = np.array([\n",
    "            alpha * model.predict(X) for model, alpha in zip(self.models, self.alphas)\n",
    "        ])\n",
    "        agg_pred = np.sign(np.sum(model_preds, axis=0))\n",
    "        return np.where(agg_pred == 1, 'tested_positive', 'tested_negative')\n"
   ]
  },
  {
   "cell_type": "code",
   "execution_count": 15,
   "metadata": {
    "deletable": false,
    "editable": false,
    "executionInfo": {
     "elapsed": 214,
     "status": "ok",
     "timestamp": 1746888315804,
     "user": {
      "displayName": "Grigorios Tsoumakas",
      "userId": "13048321804834071528"
     },
     "user_tz": -180
    },
    "id": "jVjqVcv_tmYk",
    "nbgrader": {
     "cell_type": "code",
     "checksum": "2d9bef2abfc7c0b25be8d2dbef07665b",
     "grade": true,
     "grade_id": "cell-a7bee06bbbf9666e",
     "locked": true,
     "points": 4,
     "schema_version": 3,
     "solution": false,
     "task": false
    }
   },
   "outputs": [],
   "source": [
    "\"\"\"Τεστ ορθής υλοποίησης AdaBoost\"\"\"\n",
    "from sklearn.tree import DecisionTreeClassifier\n",
    "from sklearn.metrics import accuracy_score\n",
    "\n",
    "ab = AdaBoost(n_estimators=20, estimator=DecisionTreeClassifier(max_depth=2, random_state=1))\n",
    "ab.fit(X_train, y_train)\n",
    "assert round(accuracy_score(ab.predict(X_test), y_test), 4) == 0.7706 \n"
   ]
  },
  {
   "cell_type": "code",
   "execution_count": 16,
   "metadata": {
    "colab": {
     "base_uri": "https://localhost:8080/"
    },
    "executionInfo": {
     "elapsed": 2703,
     "status": "ok",
     "timestamp": 1746888649236,
     "user": {
      "displayName": "Grigorios Tsoumakas",
      "userId": "13048321804834071528"
     },
     "user_tz": -180
    },
    "id": "0QkPMoBNz3T5",
    "outputId": "37dbdff5-50a9-4250-f08a-c4386ff56488"
   },
   "outputs": [],
   "source": [
    "#Ίδιο αποτέλεσμα παίρνουμε και με την κλάση της sklearn. Ωστόσο υπάρχουν γενικότερα διαφορές στην υλοποίηση της σε σ΄χέση με αυτήν που είδαμε στη θεωρία, όπως η υποστήριξη παραπάνω από 2 κλάσεων και ο διαφορετικός χειρισμός της τυχαιότητας στην εκπαίδευση των επί μέρους μοντέλων.\n",
    "from sklearn.ensemble import AdaBoostClassifier\n",
    "from sklearn.tree import DecisionTreeClassifier\n",
    "\n",
    "ab = AdaBoostClassifier(n_estimators=20, estimator=DecisionTreeClassifier(max_depth=2, random_state=1))\n",
    "ab.fit(X_train, y_train)\n",
    "assert round(accuracy_score(ab.predict(X_test), y_test), 4) == 0.7706"
   ]
  }
 ],
 "metadata": {
  "colab": {
   "authorship_tag": "ABX9TyOlLz270cvCPRc1g0UB5UtJ",
   "provenance": []
  },
  "kernelspec": {
   "display_name": "Python 3",
   "language": "python",
   "name": "python3"
  },
  "language_info": {
   "codemirror_mode": {
    "name": "ipython",
    "version": 3
   },
   "file_extension": ".py",
   "mimetype": "text/x-python",
   "name": "python",
   "nbconvert_exporter": "python",
   "pygments_lexer": "ipython3",
   "version": "3.11.9"
  }
 },
 "nbformat": 4,
 "nbformat_minor": 4
}
